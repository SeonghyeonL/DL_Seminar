{
  "nbformat": 4,
  "nbformat_minor": 0,
  "metadata": {
    "colab": {
      "name": "DLseminar1.ipynb",
      "provenance": [],
      "collapsed_sections": [],
      "authorship_tag": "ABX9TyPkJUpe5uJNnAJ+hZ1GMcvk"
    },
    "kernelspec": {
      "name": "python3",
      "display_name": "Python 3"
    },
    "language_info": {
      "name": "python"
    }
  },
  "cells": [
    {
      "cell_type": "code",
      "metadata": {
        "id": "IrZa8YpLPUQK"
      },
      "source": [
        "a=[1,2,3,4,5,6]"
      ],
      "execution_count": null,
      "outputs": []
    },
    {
      "cell_type": "code",
      "metadata": {
        "colab": {
          "base_uri": "https://localhost:8080/"
        },
        "id": "X2jQeNllQNre",
        "outputId": "7be37621-449a-49be-9bbe-926e7fd3bece"
      },
      "source": [
        "print(a)"
      ],
      "execution_count": null,
      "outputs": [
        {
          "output_type": "stream",
          "text": [
            "[1, 2, 3, 4, 5, 6]\n"
          ],
          "name": "stdout"
        }
      ]
    },
    {
      "cell_type": "code",
      "metadata": {
        "colab": {
          "base_uri": "https://localhost:8080/"
        },
        "id": "2Iq7PxJnQQm_",
        "outputId": "becae742-453c-4129-cf26-fc294c58466c"
      },
      "source": [
        "print(a[0]) #indexing"
      ],
      "execution_count": null,
      "outputs": [
        {
          "output_type": "stream",
          "text": [
            "1\n"
          ],
          "name": "stdout"
        }
      ]
    },
    {
      "cell_type": "code",
      "metadata": {
        "colab": {
          "base_uri": "https://localhost:8080/"
        },
        "id": "cFK_YCl9QXRQ",
        "outputId": "6a6897ed-6706-432d-ade2-7a49d85d2d35"
      },
      "source": [
        "print(a[0:3]) #slicing(0이상3미만)"
      ],
      "execution_count": null,
      "outputs": [
        {
          "output_type": "stream",
          "text": [
            "[1, 2, 3]\n"
          ],
          "name": "stdout"
        }
      ]
    },
    {
      "cell_type": "code",
      "metadata": {
        "colab": {
          "base_uri": "https://localhost:8080/"
        },
        "id": "5_F64SvvQdVD",
        "outputId": "60cc94fd-8e60-4a39-f1a9-e8bb6eee6f1d"
      },
      "source": [
        "for i in [1,2,3,4,5]:\n",
        "  print(i)"
      ],
      "execution_count": null,
      "outputs": [
        {
          "output_type": "stream",
          "text": [
            "1\n",
            "2\n",
            "3\n",
            "4\n",
            "5\n"
          ],
          "name": "stdout"
        }
      ]
    },
    {
      "cell_type": "code",
      "metadata": {
        "id": "akVcWf8cRHQ_"
      },
      "source": [
        "def add(m,n): #function\n",
        "  return m+n"
      ],
      "execution_count": null,
      "outputs": []
    },
    {
      "cell_type": "code",
      "metadata": {
        "colab": {
          "base_uri": "https://localhost:8080/"
        },
        "id": "4u28P4zoRaZY",
        "outputId": "3f60d4ff-000f-405c-a520-29442d386355"
      },
      "source": [
        "add(3,4)"
      ],
      "execution_count": null,
      "outputs": [
        {
          "output_type": "execute_result",
          "data": {
            "text/plain": [
              "7"
            ]
          },
          "metadata": {
            "tags": []
          },
          "execution_count": 12
        }
      ]
    },
    {
      "cell_type": "code",
      "metadata": {
        "id": "gdbRSYNNRcNX",
        "colab": {
          "base_uri": "https://localhost:8080/"
        },
        "outputId": "f914b829-f78f-4129-e143-450aebbca1c9"
      },
      "source": [
        "b=[[2, 4],[10,12]]\n",
        "print(b)"
      ],
      "execution_count": null,
      "outputs": [
        {
          "output_type": "stream",
          "text": [
            "[[2, 4], [10, 12]]\n"
          ],
          "name": "stdout"
        }
      ]
    },
    {
      "cell_type": "code",
      "metadata": {
        "colab": {
          "base_uri": "https://localhost:8080/"
        },
        "id": "mDfkGs2NH2bZ",
        "outputId": "187a94af-50de-4a56-b475-cbac2331a571"
      },
      "source": [
        "import numpy as np\n",
        "c=np.array([[2,4],[10,12]])\n",
        "print(c)"
      ],
      "execution_count": null,
      "outputs": [
        {
          "output_type": "stream",
          "text": [
            "[[ 2  4]\n",
            " [10 12]]\n"
          ],
          "name": "stdout"
        }
      ]
    },
    {
      "cell_type": "code",
      "metadata": {
        "colab": {
          "base_uri": "https://localhost:8080/"
        },
        "id": "uRTlSHCFIDwz",
        "outputId": "7f42a0d1-45b9-4340-a38d-c4949ad77576"
      },
      "source": [
        "print(c*2)"
      ],
      "execution_count": null,
      "outputs": [
        {
          "output_type": "stream",
          "text": [
            "[[ 4  8]\n",
            " [20 24]]\n"
          ],
          "name": "stdout"
        }
      ]
    },
    {
      "cell_type": "code",
      "metadata": {
        "colab": {
          "base_uri": "https://localhost:8080/"
        },
        "id": "elSIVSpOIG54",
        "outputId": "72a29f52-45fa-44a8-d230-b493e9cc6caa"
      },
      "source": [
        "print(c+2)"
      ],
      "execution_count": null,
      "outputs": [
        {
          "output_type": "stream",
          "text": [
            "[[ 4  6]\n",
            " [12 14]]\n"
          ],
          "name": "stdout"
        }
      ]
    },
    {
      "cell_type": "code",
      "metadata": {
        "colab": {
          "base_uri": "https://localhost:8080/"
        },
        "id": "_0BN8yAHIKBN",
        "outputId": "819d6b22-8b6b-4dc7-a21e-939b4f187db9"
      },
      "source": [
        "print(c[0][0])"
      ],
      "execution_count": null,
      "outputs": [
        {
          "output_type": "stream",
          "text": [
            "2\n"
          ],
          "name": "stdout"
        }
      ]
    },
    {
      "cell_type": "code",
      "metadata": {
        "colab": {
          "base_uri": "https://localhost:8080/"
        },
        "id": "xKbJYbZAIITL",
        "outputId": "83d193df-de2c-463a-f07f-390bed08b292"
      },
      "source": [
        "print(c[1][1])"
      ],
      "execution_count": null,
      "outputs": [
        {
          "output_type": "stream",
          "text": [
            "12\n"
          ],
          "name": "stdout"
        }
      ]
    },
    {
      "cell_type": "code",
      "metadata": {
        "colab": {
          "base_uri": "https://localhost:8080/"
        },
        "id": "Gw1yAhPLINeV",
        "outputId": "353a3baa-4d03-4d8a-b7cc-6a53c55ced1b"
      },
      "source": [
        "print(c.shape)"
      ],
      "execution_count": null,
      "outputs": [
        {
          "output_type": "stream",
          "text": [
            "(2, 2)\n"
          ],
          "name": "stdout"
        }
      ]
    },
    {
      "cell_type": "code",
      "metadata": {
        "colab": {
          "base_uri": "https://localhost:8080/"
        },
        "id": "WBVmoZN5IPxU",
        "outputId": "4e2b88d8-7821-4ca0-f682-af74a16075f0"
      },
      "source": [
        "print(c.T)"
      ],
      "execution_count": null,
      "outputs": [
        {
          "output_type": "stream",
          "text": [
            "[[ 2 10]\n",
            " [ 4 12]]\n"
          ],
          "name": "stdout"
        }
      ]
    },
    {
      "cell_type": "code",
      "metadata": {
        "id": "UGuI-GzQIRGv"
      },
      "source": [
        "#_________________________________________"
      ],
      "execution_count": null,
      "outputs": []
    },
    {
      "cell_type": "code",
      "metadata": {
        "id": "RBMcsmC1IZba"
      },
      "source": [
        "class naegul:\n",
        "  def __init__(self):\n",
        "    self.Type='animal'\n",
        "  def speak(self):\n",
        "    print('얼렁 일해서 돈 갚아라')\n",
        "  def whoareyou(self):\n",
        "    print(self.Type)"
      ],
      "execution_count": null,
      "outputs": []
    },
    {
      "cell_type": "code",
      "metadata": {
        "id": "WuThQzAzLbCy"
      },
      "source": [
        "naegul2=naegul()"
      ],
      "execution_count": null,
      "outputs": []
    },
    {
      "cell_type": "code",
      "metadata": {
        "colab": {
          "base_uri": "https://localhost:8080/"
        },
        "id": "UT7OEKw5Lehj",
        "outputId": "5c214e44-05c3-489f-962f-afedd26e0575"
      },
      "source": [
        "naegul2.speak()"
      ],
      "execution_count": null,
      "outputs": [
        {
          "output_type": "stream",
          "text": [
            "얼렁 일해서 돈 갚아라\n"
          ],
          "name": "stdout"
        }
      ]
    },
    {
      "cell_type": "code",
      "metadata": {
        "colab": {
          "base_uri": "https://localhost:8080/"
        },
        "id": "hkd07icpLg2H",
        "outputId": "cb9bff21-09bc-4663-b8ad-95da8aa66a43"
      },
      "source": [
        "naegul2.whoareyou()"
      ],
      "execution_count": null,
      "outputs": [
        {
          "output_type": "stream",
          "text": [
            "animal\n"
          ],
          "name": "stdout"
        }
      ]
    },
    {
      "cell_type": "code",
      "metadata": {
        "id": "dcWTj36vLizN"
      },
      "source": [
        ""
      ],
      "execution_count": null,
      "outputs": []
    }
  ]
}