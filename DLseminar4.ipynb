{
  "nbformat": 4,
  "nbformat_minor": 0,
  "metadata": {
    "colab": {
      "name": "DLseminar4.ipynb",
      "provenance": [],
      "collapsed_sections": [],
      "mount_file_id": "1YD_QUlUdoT6_5tiLYVfF6T91nKTDRem6",
      "authorship_tag": "ABX9TyOSNX2Scwm3K67n1pfAr6Gp"
    },
    "kernelspec": {
      "name": "python3",
      "display_name": "Python 3"
    },
    "language_info": {
      "name": "python"
    },
    "accelerator": "GPU"
  },
  "cells": [
    {
      "cell_type": "code",
      "metadata": {
        "colab": {
          "base_uri": "https://localhost:8080/"
        },
        "id": "wf43PADOcFwY",
        "outputId": "8f0bf687-227b-476d-eacf-3baffc147def"
      },
      "source": [
        "from bs4 import BeautifulSoup\n",
        "from urllib.request import urlopen # url 입력하면 html 가져옴\n",
        "\n",
        "response = urlopen('https://www.daum.net/')\n",
        "soup = BeautifulSoup(response, 'html.parser') # html 파일에서 원하는 부분만 가져옴\n",
        "for anchor in soup.select(\"a.link_favorsch\"): # ~라는 이름의 class를 가지고 오겠다\n",
        "  print(anchor)"
      ],
      "execution_count": null,
      "outputs": [
        {
          "output_type": "stream",
          "text": [
            "<a class=\"link_favorsch @1\" href=\"https://search.daum.net/search?w=tot&amp;q=%EC%BD%94%EB%A1%9C%EB%82%9819+%EB%B0%9C%EC%83%9D%ED%98%84%ED%99%A9&amp;DA=NPI\">코로나19 발생현황</a>\n",
            "<a class=\"link_favorsch @2\" href=\"https://search.daum.net/search?w=tot&amp;q=%EB%A6%AC%ED%95%9C%EB%82%98+%EC%97%B4%EC%95%A0&amp;DA=NPI&amp;rtmaxcoll=NNS\">리한나 열애</a>\n",
            "<a class=\"link_favorsch @3\" href=\"https://search.daum.net/search?w=tot&amp;q=%EC%A0%9C%EC%A3%BC%EB%8F%84%EB%A0%8C%ED%8A%B8%EC%B9%B4%EB%B9%84%EA%B5%90%EC%82%AC%EC%9D%B4%ED%8A%B8&amp;DA=NPT\">제주도렌트카비교</a>\n",
            "<a class=\"link_favorsch @4\" href=\"https://search.daum.net/search?w=tot&amp;q=%EC%98%A5%ED%83%9D%EC%97%B0+%EC%B6%9C%EC%97%B0%ED%99%95%EC%A0%95&amp;DA=NPI&amp;rtmaxcoll=NNS\">옥택연 출연확정</a>\n",
            "<a class=\"link_favorsch @5\" href=\"https://search.daum.net/search?w=tot&amp;q=%EC%8A%A4%ED%84%B0%EB%94%94%EC%B9%B4%ED%8E%98&amp;DA=NPT\">스터디카페</a>\n",
            "<a class=\"link_favorsch @6\" href=\"https://search.daum.net/search?w=tot&amp;q=%EC%82%AC%ED%9A%8C%EC%A0%81+%EA%B1%B0%EB%A6%AC%EB%91%90%EA%B8%B0&amp;DA=NPI\">사회적 거리두기</a>\n",
            "<a class=\"link_favorsch @7\" href=\"https://search.daum.net/search?w=tot&amp;q=%EC%95%BC%EC%9D%B8%EC%9D%B4%EC%A6%88%EB%B0%B1&amp;DA=NPI\">킹두한X이진호</a>\n",
            "<a class=\"link_favorsch @8\" href=\"https://search.daum.net/search?w=tot&amp;q=%EC%8B%B1%ED%81%AC%EB%8C%80%EC%86%90%EC%9E%A1%EC%9D%B4&amp;DA=NPT\">싱크대손잡이</a>\n",
            "<a class=\"link_favorsch @9\" href=\"https://search.daum.net/search?w=tot&amp;q=%EC%86%A1%EC%A4%91%EA%B8%B0+%ED%99%94%EB%B3%B4&amp;DA=NPI&amp;rtmaxcoll=NNS\">송중기 화보</a>\n",
            "<a class=\"link_favorsch @10\" href=\"https://search.daum.net/search?w=tot&amp;q=%EB%B9%85%EC%82%AC%EC%9D%B4%EC%A6%88%EB%82%A8%EC%84%B1%EC%9D%98%EB%A5%98&amp;DA=NPT\">빅사이즈남성의류</a>\n"
          ],
          "name": "stdout"
        }
      ]
    },
    {
      "cell_type": "code",
      "metadata": {
        "colab": {
          "base_uri": "https://localhost:8080/"
        },
        "id": "E8l2HZDOfCV3",
        "outputId": "8980b3d7-86de-434c-9d0f-5cf72cb8d851"
      },
      "source": [
        "!pip install selenium # 커서 내리기\n",
        "!apt-get update\n",
        "!apt install chromium-chromedriver"
      ],
      "execution_count": null,
      "outputs": [
        {
          "output_type": "stream",
          "text": [
            "Collecting selenium\n",
            "\u001b[?25l  Downloading https://files.pythonhosted.org/packages/80/d6/4294f0b4bce4de0abf13e17190289f9d0613b0a44e5dd6a7f5ca98459853/selenium-3.141.0-py2.py3-none-any.whl (904kB)\n",
            "\r\u001b[K     |▍                               | 10kB 21.4MB/s eta 0:00:01\r\u001b[K     |▊                               | 20kB 28.0MB/s eta 0:00:01\r\u001b[K     |█                               | 30kB 24.3MB/s eta 0:00:01\r\u001b[K     |█▌                              | 40kB 26.5MB/s eta 0:00:01\r\u001b[K     |█▉                              | 51kB 28.8MB/s eta 0:00:01\r\u001b[K     |██▏                             | 61kB 23.2MB/s eta 0:00:01\r\u001b[K     |██▌                             | 71kB 24.9MB/s eta 0:00:01\r\u001b[K     |███                             | 81kB 25.0MB/s eta 0:00:01\r\u001b[K     |███▎                            | 92kB 26.4MB/s eta 0:00:01\r\u001b[K     |███▋                            | 102kB 25.4MB/s eta 0:00:01\r\u001b[K     |████                            | 112kB 25.4MB/s eta 0:00:01\r\u001b[K     |████▍                           | 122kB 25.4MB/s eta 0:00:01\r\u001b[K     |████▊                           | 133kB 25.4MB/s eta 0:00:01\r\u001b[K     |█████                           | 143kB 25.4MB/s eta 0:00:01\r\u001b[K     |█████▍                          | 153kB 25.4MB/s eta 0:00:01\r\u001b[K     |█████▉                          | 163kB 25.4MB/s eta 0:00:01\r\u001b[K     |██████▏                         | 174kB 25.4MB/s eta 0:00:01\r\u001b[K     |██████▌                         | 184kB 25.4MB/s eta 0:00:01\r\u001b[K     |██████▉                         | 194kB 25.4MB/s eta 0:00:01\r\u001b[K     |███████▎                        | 204kB 25.4MB/s eta 0:00:01\r\u001b[K     |███████▋                        | 215kB 25.4MB/s eta 0:00:01\r\u001b[K     |████████                        | 225kB 25.4MB/s eta 0:00:01\r\u001b[K     |████████▎                       | 235kB 25.4MB/s eta 0:00:01\r\u001b[K     |████████▊                       | 245kB 25.4MB/s eta 0:00:01\r\u001b[K     |█████████                       | 256kB 25.4MB/s eta 0:00:01\r\u001b[K     |█████████▍                      | 266kB 25.4MB/s eta 0:00:01\r\u001b[K     |█████████▉                      | 276kB 25.4MB/s eta 0:00:01\r\u001b[K     |██████████▏                     | 286kB 25.4MB/s eta 0:00:01\r\u001b[K     |██████████▌                     | 296kB 25.4MB/s eta 0:00:01\r\u001b[K     |██████████▉                     | 307kB 25.4MB/s eta 0:00:01\r\u001b[K     |███████████▎                    | 317kB 25.4MB/s eta 0:00:01\r\u001b[K     |███████████▋                    | 327kB 25.4MB/s eta 0:00:01\r\u001b[K     |████████████                    | 337kB 25.4MB/s eta 0:00:01\r\u001b[K     |████████████▎                   | 348kB 25.4MB/s eta 0:00:01\r\u001b[K     |████████████▊                   | 358kB 25.4MB/s eta 0:00:01\r\u001b[K     |█████████████                   | 368kB 25.4MB/s eta 0:00:01\r\u001b[K     |█████████████▍                  | 378kB 25.4MB/s eta 0:00:01\r\u001b[K     |█████████████▊                  | 389kB 25.4MB/s eta 0:00:01\r\u001b[K     |██████████████▏                 | 399kB 25.4MB/s eta 0:00:01\r\u001b[K     |██████████████▌                 | 409kB 25.4MB/s eta 0:00:01\r\u001b[K     |██████████████▉                 | 419kB 25.4MB/s eta 0:00:01\r\u001b[K     |███████████████▏                | 430kB 25.4MB/s eta 0:00:01\r\u001b[K     |███████████████▋                | 440kB 25.4MB/s eta 0:00:01\r\u001b[K     |████████████████                | 450kB 25.4MB/s eta 0:00:01\r\u001b[K     |████████████████▎               | 460kB 25.4MB/s eta 0:00:01\r\u001b[K     |████████████████▋               | 471kB 25.4MB/s eta 0:00:01\r\u001b[K     |█████████████████               | 481kB 25.4MB/s eta 0:00:01\r\u001b[K     |█████████████████▍              | 491kB 25.4MB/s eta 0:00:01\r\u001b[K     |█████████████████▊              | 501kB 25.4MB/s eta 0:00:01\r\u001b[K     |██████████████████▏             | 512kB 25.4MB/s eta 0:00:01\r\u001b[K     |██████████████████▌             | 522kB 25.4MB/s eta 0:00:01\r\u001b[K     |██████████████████▉             | 532kB 25.4MB/s eta 0:00:01\r\u001b[K     |███████████████████▏            | 542kB 25.4MB/s eta 0:00:01\r\u001b[K     |███████████████████▋            | 552kB 25.4MB/s eta 0:00:01\r\u001b[K     |████████████████████            | 563kB 25.4MB/s eta 0:00:01\r\u001b[K     |████████████████████▎           | 573kB 25.4MB/s eta 0:00:01\r\u001b[K     |████████████████████▋           | 583kB 25.4MB/s eta 0:00:01\r\u001b[K     |█████████████████████           | 593kB 25.4MB/s eta 0:00:01\r\u001b[K     |█████████████████████▍          | 604kB 25.4MB/s eta 0:00:01\r\u001b[K     |█████████████████████▊          | 614kB 25.4MB/s eta 0:00:01\r\u001b[K     |██████████████████████          | 624kB 25.4MB/s eta 0:00:01\r\u001b[K     |██████████████████████▌         | 634kB 25.4MB/s eta 0:00:01\r\u001b[K     |██████████████████████▉         | 645kB 25.4MB/s eta 0:00:01\r\u001b[K     |███████████████████████▏        | 655kB 25.4MB/s eta 0:00:01\r\u001b[K     |███████████████████████▌        | 665kB 25.4MB/s eta 0:00:01\r\u001b[K     |████████████████████████        | 675kB 25.4MB/s eta 0:00:01\r\u001b[K     |████████████████████████▎       | 686kB 25.4MB/s eta 0:00:01\r\u001b[K     |████████████████████████▋       | 696kB 25.4MB/s eta 0:00:01\r\u001b[K     |█████████████████████████       | 706kB 25.4MB/s eta 0:00:01\r\u001b[K     |█████████████████████████▍      | 716kB 25.4MB/s eta 0:00:01\r\u001b[K     |█████████████████████████▊      | 727kB 25.4MB/s eta 0:00:01\r\u001b[K     |██████████████████████████      | 737kB 25.4MB/s eta 0:00:01\r\u001b[K     |██████████████████████████▍     | 747kB 25.4MB/s eta 0:00:01\r\u001b[K     |██████████████████████████▉     | 757kB 25.4MB/s eta 0:00:01\r\u001b[K     |███████████████████████████▏    | 768kB 25.4MB/s eta 0:00:01\r\u001b[K     |███████████████████████████▌    | 778kB 25.4MB/s eta 0:00:01\r\u001b[K     |████████████████████████████    | 788kB 25.4MB/s eta 0:00:01\r\u001b[K     |████████████████████████████▎   | 798kB 25.4MB/s eta 0:00:01\r\u001b[K     |████████████████████████████▋   | 808kB 25.4MB/s eta 0:00:01\r\u001b[K     |█████████████████████████████   | 819kB 25.4MB/s eta 0:00:01\r\u001b[K     |█████████████████████████████▍  | 829kB 25.4MB/s eta 0:00:01\r\u001b[K     |█████████████████████████████▊  | 839kB 25.4MB/s eta 0:00:01\r\u001b[K     |██████████████████████████████  | 849kB 25.4MB/s eta 0:00:01\r\u001b[K     |██████████████████████████████▍ | 860kB 25.4MB/s eta 0:00:01\r\u001b[K     |██████████████████████████████▉ | 870kB 25.4MB/s eta 0:00:01\r\u001b[K     |███████████████████████████████▏| 880kB 25.4MB/s eta 0:00:01\r\u001b[K     |███████████████████████████████▌| 890kB 25.4MB/s eta 0:00:01\r\u001b[K     |███████████████████████████████▉| 901kB 25.4MB/s eta 0:00:01\r\u001b[K     |████████████████████████████████| 911kB 25.4MB/s \n",
            "\u001b[?25hRequirement already satisfied: urllib3 in /usr/local/lib/python3.7/dist-packages (from selenium) (1.24.3)\n",
            "Installing collected packages: selenium\n",
            "Successfully installed selenium-3.141.0\n",
            "Get:1 http://security.ubuntu.com/ubuntu bionic-security InRelease [88.7 kB]\n",
            "Get:2 https://cloud.r-project.org/bin/linux/ubuntu bionic-cran40/ InRelease [3,626 B]\n",
            "Ign:3 https://developer.download.nvidia.com/compute/cuda/repos/ubuntu1804/x86_64  InRelease\n",
            "Get:4 http://ppa.launchpad.net/c2d4u.team/c2d4u4.0+/ubuntu bionic InRelease [15.9 kB]\n",
            "Hit:5 http://archive.ubuntu.com/ubuntu bionic InRelease\n",
            "Ign:6 https://developer.download.nvidia.com/compute/machine-learning/repos/ubuntu1804/x86_64  InRelease\n",
            "Get:7 https://developer.download.nvidia.com/compute/cuda/repos/ubuntu1804/x86_64  Release [697 B]\n",
            "Hit:8 https://developer.download.nvidia.com/compute/machine-learning/repos/ubuntu1804/x86_64  Release\n",
            "Get:9 https://developer.download.nvidia.com/compute/cuda/repos/ubuntu1804/x86_64  Release.gpg [836 B]\n",
            "Get:10 http://archive.ubuntu.com/ubuntu bionic-updates InRelease [88.7 kB]\n",
            "Get:11 https://cloud.r-project.org/bin/linux/ubuntu bionic-cran40/ Packages [60.5 kB]\n",
            "Hit:12 http://ppa.launchpad.net/cran/libgit2/ubuntu bionic InRelease\n",
            "Get:13 http://security.ubuntu.com/ubuntu bionic-security/main amd64 Packages [2,152 kB]\n",
            "Get:14 http://archive.ubuntu.com/ubuntu bionic-backports InRelease [74.6 kB]\n",
            "Get:15 http://security.ubuntu.com/ubuntu bionic-security/restricted amd64 Packages [423 kB]\n",
            "Hit:16 http://ppa.launchpad.net/deadsnakes/ppa/ubuntu bionic InRelease\n",
            "Get:17 http://security.ubuntu.com/ubuntu bionic-security/universe amd64 Packages [1,412 kB]\n",
            "Get:18 http://ppa.launchpad.net/graphics-drivers/ppa/ubuntu bionic InRelease [21.3 kB]\n",
            "Ign:20 https://developer.download.nvidia.com/compute/cuda/repos/ubuntu1804/x86_64  Packages\n",
            "Get:20 https://developer.download.nvidia.com/compute/cuda/repos/ubuntu1804/x86_64  Packages [772 kB]\n",
            "Get:21 http://ppa.launchpad.net/c2d4u.team/c2d4u4.0+/ubuntu bionic/main Sources [1,767 kB]\n",
            "Get:22 http://archive.ubuntu.com/ubuntu bionic-updates/main amd64 Packages [2,583 kB]\n",
            "Get:23 http://archive.ubuntu.com/ubuntu bionic-updates/universe amd64 Packages [2,183 kB]\n",
            "Get:24 http://ppa.launchpad.net/c2d4u.team/c2d4u4.0+/ubuntu bionic/main amd64 Packages [904 kB]\n",
            "Get:25 http://archive.ubuntu.com/ubuntu bionic-updates/restricted amd64 Packages [452 kB]\n",
            "Get:26 http://ppa.launchpad.net/graphics-drivers/ppa/ubuntu bionic/main amd64 Packages [41.5 kB]\n",
            "Fetched 13.0 MB in 3s (4,273 kB/s)\n",
            "Reading package lists... Done\n",
            "Reading package lists... Done\n",
            "Building dependency tree       \n",
            "Reading state information... Done\n",
            "The following package was automatically installed and is no longer required:\n",
            "  libnvidia-common-460\n",
            "Use 'apt autoremove' to remove it.\n",
            "The following additional packages will be installed:\n",
            "  chromium-browser chromium-browser-l10n chromium-codecs-ffmpeg-extra\n",
            "Suggested packages:\n",
            "  webaccounts-chromium-extension unity-chromium-extension\n",
            "The following NEW packages will be installed:\n",
            "  chromium-browser chromium-browser-l10n chromium-chromedriver\n",
            "  chromium-codecs-ffmpeg-extra\n",
            "0 upgraded, 4 newly installed, 0 to remove and 72 not upgraded.\n",
            "Need to get 86.6 MB of archives.\n",
            "After this operation, 300 MB of additional disk space will be used.\n",
            "Get:1 http://archive.ubuntu.com/ubuntu bionic-updates/universe amd64 chromium-codecs-ffmpeg-extra amd64 90.0.4430.93-0ubuntu0.18.04.1 [1,128 kB]\n",
            "Get:2 http://archive.ubuntu.com/ubuntu bionic-updates/universe amd64 chromium-browser amd64 90.0.4430.93-0ubuntu0.18.04.1 [76.9 MB]\n",
            "Get:3 http://archive.ubuntu.com/ubuntu bionic-updates/universe amd64 chromium-browser-l10n all 90.0.4430.93-0ubuntu0.18.04.1 [3,853 kB]\n",
            "Get:4 http://archive.ubuntu.com/ubuntu bionic-updates/universe amd64 chromium-chromedriver amd64 90.0.4430.93-0ubuntu0.18.04.1 [4,743 kB]\n",
            "Fetched 86.6 MB in 3s (26.4 MB/s)\n",
            "Selecting previously unselected package chromium-codecs-ffmpeg-extra.\n",
            "(Reading database ... 160706 files and directories currently installed.)\n",
            "Preparing to unpack .../chromium-codecs-ffmpeg-extra_90.0.4430.93-0ubuntu0.18.04.1_amd64.deb ...\n",
            "Unpacking chromium-codecs-ffmpeg-extra (90.0.4430.93-0ubuntu0.18.04.1) ...\n",
            "Selecting previously unselected package chromium-browser.\n",
            "Preparing to unpack .../chromium-browser_90.0.4430.93-0ubuntu0.18.04.1_amd64.deb ...\n",
            "Unpacking chromium-browser (90.0.4430.93-0ubuntu0.18.04.1) ...\n",
            "Selecting previously unselected package chromium-browser-l10n.\n",
            "Preparing to unpack .../chromium-browser-l10n_90.0.4430.93-0ubuntu0.18.04.1_all.deb ...\n",
            "Unpacking chromium-browser-l10n (90.0.4430.93-0ubuntu0.18.04.1) ...\n",
            "Selecting previously unselected package chromium-chromedriver.\n",
            "Preparing to unpack .../chromium-chromedriver_90.0.4430.93-0ubuntu0.18.04.1_amd64.deb ...\n",
            "Unpacking chromium-chromedriver (90.0.4430.93-0ubuntu0.18.04.1) ...\n",
            "Setting up chromium-codecs-ffmpeg-extra (90.0.4430.93-0ubuntu0.18.04.1) ...\n",
            "Setting up chromium-browser (90.0.4430.93-0ubuntu0.18.04.1) ...\n",
            "update-alternatives: using /usr/bin/chromium-browser to provide /usr/bin/x-www-browser (x-www-browser) in auto mode\n",
            "update-alternatives: using /usr/bin/chromium-browser to provide /usr/bin/gnome-www-browser (gnome-www-browser) in auto mode\n",
            "Setting up chromium-chromedriver (90.0.4430.93-0ubuntu0.18.04.1) ...\n",
            "Setting up chromium-browser-l10n (90.0.4430.93-0ubuntu0.18.04.1) ...\n",
            "Processing triggers for man-db (2.8.3-2ubuntu0.1) ...\n",
            "Processing triggers for hicolor-icon-theme (0.17-2) ...\n",
            "Processing triggers for mime-support (3.60ubuntu1) ...\n",
            "Processing triggers for libc-bin (2.27-3ubuntu1.2) ...\n",
            "/sbin/ldconfig.real: /usr/local/lib/python3.7/dist-packages/ideep4py/lib/libmkldnn.so.0 is not a symbolic link\n",
            "\n"
          ],
          "name": "stdout"
        }
      ]
    },
    {
      "cell_type": "code",
      "metadata": {
        "id": "WfxyL0grf4NZ"
      },
      "source": [
        "# 로컬이 아니라 colab이라서 필요한 설정들\n",
        "from selenium import webdriver\n",
        "chrome_options = webdriver.ChromeOptions()\n",
        "chrome_options.add_argument('--headless')\n",
        "chrome_options.add_argument('--no-sandbox')\n",
        "chrome_options.add_argument('--disable-dev-shm-usage')"
      ],
      "execution_count": null,
      "outputs": []
    },
    {
      "cell_type": "code",
      "metadata": {
        "id": "NzutRn-0gp4q"
      },
      "source": [
        "# 본인 드라이브와 연동 필요!"
      ],
      "execution_count": null,
      "outputs": []
    },
    {
      "cell_type": "code",
      "metadata": {
        "id": "SmxyfO_Mg48P"
      },
      "source": [
        "from selenium import webdriver\n",
        "from bs4 import BeautifulSoup\n",
        "from urllib.request import urlopen\n",
        "from urllib.parse import quote_plus\n",
        "import time\n",
        "\n",
        "browser = webdriver.Chrome('chromedriver', options=chrome_options)\n",
        "\n",
        "key_word = '아이유' # 검색할 단어\n",
        "download_image_count = 400 # 가져올 개수\n",
        "\n",
        "main_url = f'https://www.google.com/search?q={quote_plus(key_word)}&source=source=lnms&tbm=isch&sa=X'\n",
        "browser.get(main_url)\n",
        "time.sleep(2) # 기다리기\n",
        "for i in range(download_image_count):\n",
        "  browser.execute_script('window.scrollBy(0,10000)')\n",
        "\n",
        "html = browser.page_source # html 형식\n",
        "soup = BeautifulSoup(html)\n",
        "img = soup.select('.rg_i.Q4LuWd') # ~가 클래스명인 tag를 가져오겠다\n",
        "\n",
        "imgurl = [] # url만 저장할 list\n",
        "for i in img:\n",
        "  try:\n",
        "    imgurl.append(i.attrs['src']) # src만 추가\n",
        "  except KeyError:\n",
        "    imgurl.append(i.attrs['data-src'])\n",
        "\n",
        "n = 1\n",
        "for i in imgurl:\n",
        "  with urlopen(i) as f:\n",
        "    with open(\"/content/drive/MyDrive/Colab Notebooks/DL_Seminar/celeb_project_4/image/iu/\" + key_word + str(n) + \".jpg\", \"wb\") as h:\n",
        "      current_img = f.read()\n",
        "      h.write(current_img)\n",
        "\n",
        "  n += 1\n",
        "  time.sleep(0.1)\n",
        "\n",
        "browser.close()\n"
      ],
      "execution_count": null,
      "outputs": []
    },
    {
      "cell_type": "code",
      "metadata": {
        "colab": {
          "base_uri": "https://localhost:8080/"
        },
        "id": "KlFMfhtShtry",
        "outputId": "19d51454-fb4d-42b4-cfac-ff67d56589f5"
      },
      "source": [
        "import os\n",
        "print(len(os.listdir(\"/content/drive/MyDrive/Colab Notebooks/DL_Seminar/celeb_project_4/image/sana\")))"
      ],
      "execution_count": null,
      "outputs": [
        {
          "output_type": "stream",
          "text": [
            "400\n"
          ],
          "name": "stdout"
        }
      ]
    },
    {
      "cell_type": "code",
      "metadata": {
        "colab": {
          "base_uri": "https://localhost:8080/"
        },
        "id": "vYSSs6TpltVN",
        "outputId": "ab5c2dbe-52d2-4034-dc13-4a328501eb7e"
      },
      "source": [
        "# 데이터 전처리 필요 (얼굴 부분만 가져오게)\n",
        "!pip install face_recognition"
      ],
      "execution_count": null,
      "outputs": [
        {
          "output_type": "stream",
          "text": [
            "Collecting face_recognition\n",
            "  Downloading https://files.pythonhosted.org/packages/1e/95/f6c9330f54ab07bfa032bf3715c12455a381083125d8880c43cbe76bb3d0/face_recognition-1.3.0-py2.py3-none-any.whl\n",
            "Requirement already satisfied: numpy in /usr/local/lib/python3.7/dist-packages (from face_recognition) (1.19.5)\n",
            "Requirement already satisfied: dlib>=19.7 in /usr/local/lib/python3.7/dist-packages (from face_recognition) (19.18.0)\n",
            "Requirement already satisfied: Pillow in /usr/local/lib/python3.7/dist-packages (from face_recognition) (7.1.2)\n",
            "Requirement already satisfied: Click>=6.0 in /usr/local/lib/python3.7/dist-packages (from face_recognition) (8.0.0)\n",
            "Collecting face-recognition-models>=0.3.0\n",
            "\u001b[?25l  Downloading https://files.pythonhosted.org/packages/cf/3b/4fd8c534f6c0d1b80ce0973d01331525538045084c73c153ee6df20224cf/face_recognition_models-0.3.0.tar.gz (100.1MB)\n",
            "\u001b[K     |████████████████████████████████| 100.2MB 117kB/s \n",
            "\u001b[?25hBuilding wheels for collected packages: face-recognition-models\n",
            "  Building wheel for face-recognition-models (setup.py) ... \u001b[?25l\u001b[?25hdone\n",
            "  Created wheel for face-recognition-models: filename=face_recognition_models-0.3.0-py2.py3-none-any.whl size=100566173 sha256=783b0ac99b44ef50d8d7b19856237a7da0bb2ed0f0610e7c899275d3fabd52de\n",
            "  Stored in directory: /root/.cache/pip/wheels/d2/99/18/59c6c8f01e39810415c0e63f5bede7d83dfb0ffc039865465f\n",
            "Successfully built face-recognition-models\n",
            "Installing collected packages: face-recognition-models, face-recognition\n",
            "Successfully installed face-recognition-1.3.0 face-recognition-models-0.3.0\n"
          ],
          "name": "stdout"
        }
      ]
    },
    {
      "cell_type": "code",
      "metadata": {
        "colab": {
          "base_uri": "https://localhost:8080/"
        },
        "id": "8NOio3WDmjJ7",
        "outputId": "913a2e11-0366-4dd3-87df-cf4341162d8f"
      },
      "source": [
        "cd '/content/drive/MyDrive/Colab Notebooks/DL_Seminar/celeb_project_4'"
      ],
      "execution_count": null,
      "outputs": [
        {
          "output_type": "stream",
          "text": [
            "/content/drive/MyDrive/Colab Notebooks/DL_Seminar/celeb_project_4\n"
          ],
          "name": "stdout"
        }
      ]
    },
    {
      "cell_type": "code",
      "metadata": {
        "id": "njzGYpgpmtW3"
      },
      "source": [
        "import os # os는 파일 관리할 때 사용\n",
        "\n",
        "os.makedirs('./train/sana_face') # 얼굴 사진만 저장할 폴더\n",
        "os.makedirs('./train/iu_face')"
      ],
      "execution_count": null,
      "outputs": []
    },
    {
      "cell_type": "code",
      "metadata": {
        "id": "oh7MH6U-m8Uq"
      },
      "source": [
        "sana_dir = './image/sana'\n",
        "iu_dir = './image/iu'\n",
        "sana_images = os.listdir(sana_dir) # 파일명을 list로 가짐\n",
        "iu_images = os.listdir(iu_dir)"
      ],
      "execution_count": null,
      "outputs": []
    },
    {
      "cell_type": "code",
      "metadata": {
        "id": "DcvQAuM5nWJA"
      },
      "source": [
        "from PIL import Image # jpg 파일 가져올 때 필요함\n",
        "import face_recognition as FR"
      ],
      "execution_count": null,
      "outputs": []
    },
    {
      "cell_type": "code",
      "metadata": {
        "id": "UGWDzIQsniG1"
      },
      "source": [
        "for file in iu_images:\n",
        "  image = FR.load_image_file(os.path.join(iu_dir, file))\n",
        "  faces = FR.face_locations(image, number_of_times_to_upsample=0, model='hog')\n",
        "  if len(faces) != 1:\n",
        "    continue\n",
        "\n",
        "  for T,R,B,L in faces:\n",
        "    crop = image[T:B, L:R]\n",
        "    resized = Image.fromarray(crop).resize((256,256), Image.BICUBIC)\n",
        "    resized.save(os.path.join('./train/iu_face', file))"
      ],
      "execution_count": null,
      "outputs": []
    },
    {
      "cell_type": "code",
      "metadata": {
        "colab": {
          "base_uri": "https://localhost:8080/"
        },
        "id": "r6Ja85iCopIx",
        "outputId": "8bc9eba9-641c-4e10-b766-27cb7e90893e"
      },
      "source": [
        "print(len(os.listdir(\"/content/drive/MyDrive/Colab Notebooks/DL_Seminar/celeb_project_4/train/sana_face\")))"
      ],
      "execution_count": null,
      "outputs": [
        {
          "output_type": "stream",
          "text": [
            "168\n"
          ],
          "name": "stdout"
        }
      ]
    },
    {
      "cell_type": "code",
      "metadata": {
        "id": "ZFw38WlIpEBg"
      },
      "source": [
        "# 모델 만들어서 훈련하기\n",
        "import tensorflow as tf\n",
        "from tensorflow.keras.layers import Dense,Flatten,Conv2D,MaxPooling2D, Dropout\n",
        "from tensorflow.keras.models import Sequential"
      ],
      "execution_count": null,
      "outputs": []
    },
    {
      "cell_type": "code",
      "metadata": {
        "id": "70NnwxV1qO38"
      },
      "source": [
        "gen = tf.keras.preprocessing.image.ImageDataGenerator(rescale=1./255, zoom_range=0.1, width_shift_range=0.1, height_shift_range=0.1, vertical_flip=True)"
      ],
      "execution_count": null,
      "outputs": []
    },
    {
      "cell_type": "code",
      "metadata": {
        "colab": {
          "base_uri": "https://localhost:8080/"
        },
        "id": "g59RbtAaqnzs",
        "outputId": "28d11a17-f7f1-4f56-b028-40598941fa34"
      },
      "source": [
        "train_generator = gen.flow_from_directory('./train', batch_size=5, class_mode='binary')"
      ],
      "execution_count": null,
      "outputs": [
        {
          "output_type": "stream",
          "text": [
            "Found 354 images belonging to 2 classes.\n"
          ],
          "name": "stdout"
        }
      ]
    },
    {
      "cell_type": "code",
      "metadata": {
        "id": "eqq3Kg5uq65s"
      },
      "source": [
        "model = Sequential() \n",
        "\n",
        "model.add(Conv2D(16, kernel_size=(3, 3), activation='relu', input_shape=(256,256,3)))\n",
        "#254*254*16\n",
        "model.add(MaxPooling2D(pool_size=(2, 2)))\n",
        "model.add(Conv2D(32, (3, 3), activation='relu')) \n",
        "model.add(MaxPooling2D(pool_size=(2, 2)))\n",
        "\n",
        "model.add(Conv2D(64, (3, 3), activation='relu'))\n",
        "model.add(MaxPooling2D(pool_size=(2, 2))) \n",
        "model.add(Conv2D(128, (3, 3), activation='relu')) \n",
        "model.add(MaxPooling2D(pool_size=(2, 2))) \n",
        "\n",
        "model.add(Flatten()) \n",
        "model.add(Dense(256, activation='relu'))  \n",
        "model.add(Dropout(0.2))\n",
        "model.add(Dense(1, activation='sigmoid'))\n",
        "model.compile(loss='binary_crossentropy', optimizer='adam', metrics=['accuracy'])"
      ],
      "execution_count": null,
      "outputs": []
    },
    {
      "cell_type": "code",
      "metadata": {
        "id": "Vjf8YGphrHeP"
      },
      "source": [
        "model.summary()"
      ],
      "execution_count": null,
      "outputs": []
    },
    {
      "cell_type": "code",
      "metadata": {
        "colab": {
          "base_uri": "https://localhost:8080/"
        },
        "id": "BkjHEH0rrVgB",
        "outputId": "4fb9c3d3-896d-4d34-c8ec-2c5d0b8e070a"
      },
      "source": [
        "# 훈련\n",
        "model.fit(train_generator, epochs=50)"
      ],
      "execution_count": null,
      "outputs": [
        {
          "output_type": "stream",
          "text": [
            "Epoch 1/50\n",
            "71/71 [==============================] - 38s 77ms/step - loss: 0.7820 - accuracy: 0.5237\n",
            "Epoch 2/50\n",
            "71/71 [==============================] - 5s 74ms/step - loss: 0.7249 - accuracy: 0.5659\n",
            "Epoch 3/50\n",
            "71/71 [==============================] - 5s 75ms/step - loss: 0.6741 - accuracy: 0.5710\n",
            "Epoch 4/50\n",
            "71/71 [==============================] - 5s 74ms/step - loss: 0.6389 - accuracy: 0.5932\n",
            "Epoch 5/50\n",
            "71/71 [==============================] - 5s 74ms/step - loss: 0.6414 - accuracy: 0.6808\n",
            "Epoch 6/50\n",
            "71/71 [==============================] - 5s 75ms/step - loss: 0.6778 - accuracy: 0.6443\n",
            "Epoch 7/50\n",
            "71/71 [==============================] - 5s 76ms/step - loss: 0.6108 - accuracy: 0.6642\n",
            "Epoch 8/50\n",
            "71/71 [==============================] - 5s 75ms/step - loss: 0.6165 - accuracy: 0.6933\n",
            "Epoch 9/50\n",
            "71/71 [==============================] - 5s 75ms/step - loss: 0.6312 - accuracy: 0.6588\n",
            "Epoch 10/50\n",
            "71/71 [==============================] - 5s 74ms/step - loss: 0.5921 - accuracy: 0.6928\n",
            "Epoch 11/50\n",
            "71/71 [==============================] - 5s 75ms/step - loss: 0.5728 - accuracy: 0.7112\n",
            "Epoch 12/50\n",
            "71/71 [==============================] - 5s 74ms/step - loss: 0.5664 - accuracy: 0.7192\n",
            "Epoch 13/50\n",
            "71/71 [==============================] - 5s 74ms/step - loss: 0.5901 - accuracy: 0.7039\n",
            "Epoch 14/50\n",
            "71/71 [==============================] - 5s 76ms/step - loss: 0.5213 - accuracy: 0.7226\n",
            "Epoch 15/50\n",
            "71/71 [==============================] - 5s 76ms/step - loss: 0.5677 - accuracy: 0.7088\n",
            "Epoch 16/50\n",
            "71/71 [==============================] - 5s 76ms/step - loss: 0.5441 - accuracy: 0.7224\n",
            "Epoch 17/50\n",
            "71/71 [==============================] - 5s 74ms/step - loss: 0.6084 - accuracy: 0.6611\n",
            "Epoch 18/50\n",
            "71/71 [==============================] - 5s 75ms/step - loss: 0.5648 - accuracy: 0.7175\n",
            "Epoch 19/50\n",
            "71/71 [==============================] - 5s 75ms/step - loss: 0.5448 - accuracy: 0.7361\n",
            "Epoch 20/50\n",
            "71/71 [==============================] - 5s 74ms/step - loss: 0.5309 - accuracy: 0.7515\n",
            "Epoch 21/50\n",
            "71/71 [==============================] - 5s 75ms/step - loss: 0.5531 - accuracy: 0.7450\n",
            "Epoch 22/50\n",
            "71/71 [==============================] - 5s 75ms/step - loss: 0.5304 - accuracy: 0.6911\n",
            "Epoch 23/50\n",
            "71/71 [==============================] - 5s 74ms/step - loss: 0.5747 - accuracy: 0.6963\n",
            "Epoch 24/50\n",
            "71/71 [==============================] - 5s 75ms/step - loss: 0.5334 - accuracy: 0.7351\n",
            "Epoch 25/50\n",
            "71/71 [==============================] - 5s 75ms/step - loss: 0.5634 - accuracy: 0.7415\n",
            "Epoch 26/50\n",
            "71/71 [==============================] - 5s 75ms/step - loss: 0.4920 - accuracy: 0.7703\n",
            "Epoch 27/50\n",
            "71/71 [==============================] - 5s 75ms/step - loss: 0.5072 - accuracy: 0.7486\n",
            "Epoch 28/50\n",
            "71/71 [==============================] - 5s 74ms/step - loss: 0.5137 - accuracy: 0.7647\n",
            "Epoch 29/50\n",
            "71/71 [==============================] - 5s 75ms/step - loss: 0.5325 - accuracy: 0.7499\n",
            "Epoch 30/50\n",
            "71/71 [==============================] - 5s 74ms/step - loss: 0.5488 - accuracy: 0.7068\n",
            "Epoch 31/50\n",
            "71/71 [==============================] - 5s 75ms/step - loss: 0.5131 - accuracy: 0.7938\n",
            "Epoch 32/50\n",
            "71/71 [==============================] - 5s 75ms/step - loss: 0.5350 - accuracy: 0.6831\n",
            "Epoch 33/50\n",
            "71/71 [==============================] - 5s 74ms/step - loss: 0.5201 - accuracy: 0.7426\n",
            "Epoch 34/50\n",
            "71/71 [==============================] - 5s 74ms/step - loss: 0.5748 - accuracy: 0.7174\n",
            "Epoch 35/50\n",
            "71/71 [==============================] - 5s 75ms/step - loss: 0.4905 - accuracy: 0.7631\n",
            "Epoch 36/50\n",
            "71/71 [==============================] - 5s 76ms/step - loss: 0.5041 - accuracy: 0.8095\n",
            "Epoch 37/50\n",
            "71/71 [==============================] - 5s 76ms/step - loss: 0.4178 - accuracy: 0.7927\n",
            "Epoch 38/50\n",
            "71/71 [==============================] - 5s 75ms/step - loss: 0.4628 - accuracy: 0.8144\n",
            "Epoch 39/50\n",
            "71/71 [==============================] - 5s 76ms/step - loss: 0.4837 - accuracy: 0.7427\n",
            "Epoch 40/50\n",
            "71/71 [==============================] - 5s 75ms/step - loss: 0.4788 - accuracy: 0.8103\n",
            "Epoch 41/50\n",
            "71/71 [==============================] - 5s 74ms/step - loss: 0.4866 - accuracy: 0.7650\n",
            "Epoch 42/50\n",
            "71/71 [==============================] - 5s 75ms/step - loss: 0.4291 - accuracy: 0.8054\n",
            "Epoch 43/50\n",
            "71/71 [==============================] - 5s 75ms/step - loss: 0.4598 - accuracy: 0.7771\n",
            "Epoch 44/50\n",
            "71/71 [==============================] - 5s 75ms/step - loss: 0.5131 - accuracy: 0.7675\n",
            "Epoch 45/50\n",
            "71/71 [==============================] - 5s 76ms/step - loss: 0.3750 - accuracy: 0.8398\n",
            "Epoch 46/50\n",
            "71/71 [==============================] - 5s 75ms/step - loss: 0.4167 - accuracy: 0.8359\n",
            "Epoch 47/50\n",
            "71/71 [==============================] - 5s 74ms/step - loss: 0.4038 - accuracy: 0.8232\n",
            "Epoch 48/50\n",
            "71/71 [==============================] - 5s 75ms/step - loss: 0.3998 - accuracy: 0.8240\n",
            "Epoch 49/50\n",
            "71/71 [==============================] - 5s 75ms/step - loss: 0.4084 - accuracy: 0.8218\n",
            "Epoch 50/50\n",
            "71/71 [==============================] - 5s 75ms/step - loss: 0.3646 - accuracy: 0.8344\n"
          ],
          "name": "stdout"
        },
        {
          "output_type": "execute_result",
          "data": {
            "text/plain": [
              "<tensorflow.python.keras.callbacks.History at 0x7fc3e1b30ad0>"
            ]
          },
          "metadata": {
            "tags": []
          },
          "execution_count": 40
        }
      ]
    },
    {
      "cell_type": "code",
      "metadata": {
        "id": "w1jtMznmrgKZ"
      },
      "source": [
        "import numpy as np\n",
        "import matplotlib.pyplot as plt\n",
        "\n",
        "def predict(model,path):\n",
        "    label = ['사나','아이유']\n",
        "    image = FR.load_image_file(path)\n",
        "    faces = FR.face_locations(image, number_of_times_to_upsample=0, model=\"hog\")\n",
        "    if len(faces) != 1 :\n",
        "            print('얼굴을 찾을 수 없습니다.')\n",
        "            return\n",
        "    for T, R, B, L in faces:\n",
        "            crop  = image[T:B, L:R]\n",
        "            resized = Image.fromarray(crop).resize((256,256), Image.BICUBIC)\n",
        "            result = model.predict(np.array(resized).reshape(1,256,256,3)/255.)\n",
        "            print('sana일 확률 : ', result[0], 'iu일 확률 : ', 1-result[0])\n",
        "            plt.imshow(resized)\n",
        "            plt.show"
      ],
      "execution_count": null,
      "outputs": []
    },
    {
      "cell_type": "code",
      "metadata": {
        "colab": {
          "base_uri": "https://localhost:8080/",
          "height": 287
        },
        "id": "T38Gum8hspKo",
        "outputId": "3dcab6b2-ec94-4e07-8dd6-51c774709054"
      },
      "source": [
        "predict(model, '/content/drive/MyDrive/Colab Notebooks/DL_Seminar/celeb_project_4/image/iu/아이유1.jpg')"
      ],
      "execution_count": null,
      "outputs": [
        {
          "output_type": "stream",
          "text": [
            "sana일 확률 :  [0.15594052] iu일 확률 :  [0.84405947]\n"
          ],
          "name": "stdout"
        },
        {
          "output_type": "display_data",
          "data": {
            "image/png": "[encoded data removed]",
            "text/plain": [
              "<Figure size 432x288 with 1 Axes>"
            ]
          },
          "metadata": {
            "tags": [],
            "needs_background": "light"
          }
        }
      ]
    },
    {
      "cell_type": "code",
      "metadata": {
        "id": "g9s7dSxwtXNi"
      },
      "source": [
        ""
      ],
      "execution_count": null,
      "outputs": []
    }
  ]
}