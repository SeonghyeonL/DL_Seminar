{
  "nbformat": 4,
  "nbformat_minor": 0,
  "metadata": {
    "colab": {
      "name": "DLseminar2.ipynb",
      "provenance": [],
      "collapsed_sections": [],
      "mount_file_id": "1Wn3xhKneEJI57Du4jHlCoZdzp7oIv2Va",
      "authorship_tag": "ABX9TyMPx3hmvTXDuKKar9UmVul8"
    },
    "kernelspec": {
      "name": "python3",
      "display_name": "Python 3"
    },
    "language_info": {
      "name": "python"
    },
    "accelerator": "GPU"
  },
  "cells": [
    {
      "cell_type": "code",
      "metadata": {
        "id": "mJfJeII7YeAC"
      },
      "source": [
        "# 런타임 -> 런타임 유형 변경 -> GPU"
      ],
      "execution_count": null,
      "outputs": []
    },
    {
      "cell_type": "code",
      "metadata": {
        "id": "Z6l1-pJ5dZnJ"
      },
      "source": [
        "import numpy as np\n",
        "np.random.seed(10) # 가중치 랜덤 수 고정!\n",
        "import matplotlib.pyplot as plt # 손글씨"
      ],
      "execution_count": null,
      "outputs": []
    },
    {
      "cell_type": "code",
      "metadata": {
        "id": "c2HhjHNPdnDq"
      },
      "source": [
        "import tensorflow as tf"
      ],
      "execution_count": null,
      "outputs": []
    },
    {
      "cell_type": "code",
      "metadata": {
        "id": "jnj0P4ORdsJp"
      },
      "source": [
        "mnist = tf.keras.datasets.mnist"
      ],
      "execution_count": null,
      "outputs": []
    },
    {
      "cell_type": "code",
      "metadata": {
        "colab": {
          "base_uri": "https://localhost:8080/"
        },
        "id": "-F6yOntkd0OC",
        "outputId": "3fc591a8-84d0-4ef5-bbcb-ea8ad037a230"
      },
      "source": [
        "(x_train,y_train), (x_test,y_test) = mnist.load_data()"
      ],
      "execution_count": null,
      "outputs": [
        {
          "output_type": "stream",
          "text": [
            "Downloading data from https://storage.googleapis.com/tensorflow/tf-keras-datasets/mnist.npz\n",
            "11493376/11490434 [==============================] - 0s 0us/step\n"
          ],
          "name": "stdout"
        }
      ]
    },
    {
      "cell_type": "code",
      "metadata": {
        "id": "MdYvUFPaeBFc"
      },
      "source": [
        "# 데이터 준비 완료"
      ],
      "execution_count": null,
      "outputs": []
    },
    {
      "cell_type": "code",
      "metadata": {
        "colab": {
          "base_uri": "https://localhost:8080/"
        },
        "id": "tKbj-ht4eF5t",
        "outputId": "8bfa0918-938e-439e-e36a-3acfba053fd1"
      },
      "source": [
        "print(x_train.shape, y_train.shape) # 60000개의 이미지가 있다"
      ],
      "execution_count": null,
      "outputs": [
        {
          "output_type": "stream",
          "text": [
            "(60000, 28, 28) (60000,)\n"
          ],
          "name": "stdout"
        }
      ]
    },
    {
      "cell_type": "code",
      "metadata": {
        "colab": {
          "base_uri": "https://localhost:8080/",
          "height": 265
        },
        "id": "i2BfT9hbeWKw",
        "outputId": "161bc836-b859-4b14-ccde-b7225ab003ca"
      },
      "source": [
        "plt.imshow(x_train[0], cmap='gray')\n",
        "plt.show()"
      ],
      "execution_count": null,
      "outputs": [
        {
          "output_type": "display_data",
          "data": {
            "image/png": "[encoded data removed]",
            "text/plain": [
              "<Figure size 432x288 with 1 Axes>"
            ]
          },
          "metadata": {
            "tags": [],
            "needs_background": "light"
          }
        }
      ]
    },
    {
      "cell_type": "code",
      "metadata": {
        "colab": {
          "base_uri": "https://localhost:8080/"
        },
        "id": "xtXIzSaNeabM",
        "outputId": "de35a7f6-4347-42e7-96a9-1394f66aef68"
      },
      "source": [
        "print(y_train[0]) # 정답"
      ],
      "execution_count": null,
      "outputs": [
        {
          "output_type": "stream",
          "text": [
            "5\n"
          ],
          "name": "stdout"
        }
      ]
    },
    {
      "cell_type": "code",
      "metadata": {
        "id": "Yak6JPpbeq5l"
      },
      "source": [
        "# 전처리 필요\n",
        "x_train = x_train.astype('float32')/255. # 정규화\n",
        "x_test = x_test.astype('float32')/255. \n",
        "y_train = tf.keras.utils.to_categorical(y_train, 10) # one-hot 인코딩\n",
        "y_test = tf.keras.utils.to_categorical(y_test, 10) # 10은 정답 가짓수"
      ],
      "execution_count": null,
      "outputs": []
    },
    {
      "cell_type": "code",
      "metadata": {
        "colab": {
          "base_uri": "https://localhost:8080/"
        },
        "id": "fpudLOFBfyez",
        "outputId": "4445fe9b-db96-43f2-caa7-d61c6151f5e4"
      },
      "source": [
        "print(y_train[0])"
      ],
      "execution_count": null,
      "outputs": [
        {
          "output_type": "stream",
          "text": [
            "[0. 0. 0. 0. 0. 1. 0. 0. 0. 0.]\n"
          ],
          "name": "stdout"
        }
      ]
    },
    {
      "cell_type": "code",
      "metadata": {
        "id": "Et331u3rf1Ac"
      },
      "source": [
        "# 이제, 모델 만들기\n",
        "model = tf.keras.models.Sequential()"
      ],
      "execution_count": null,
      "outputs": []
    },
    {
      "cell_type": "code",
      "metadata": {
        "id": "fcaAfkOBf__a"
      },
      "source": [
        "# 입력 레이어\n",
        "layer1 = tf.keras.layers.Flatten(input_shape=(28,28)) # 쭉 펴 주기"
      ],
      "execution_count": null,
      "outputs": []
    },
    {
      "cell_type": "code",
      "metadata": {
        "id": "EXgmjNA2gUJY"
      },
      "source": [
        "# 히든 레이어\n",
        "layer2 = tf.keras.layers.Dense(90, activation='relu') # (노드 개수, 활성 함수)"
      ],
      "execution_count": null,
      "outputs": []
    },
    {
      "cell_type": "code",
      "metadata": {
        "id": "_c9hu3ZbghQ2"
      },
      "source": [
        "# 최종 레이어\n",
        "layer3 = tf.keras.layers.Dense(10, activation='softmax') # 확률 출력"
      ],
      "execution_count": null,
      "outputs": []
    },
    {
      "cell_type": "code",
      "metadata": {
        "id": "lXpm1WI-gufu"
      },
      "source": [
        "model.add(layer1)\n",
        "model.add(layer2)\n",
        "model.add(layer3)"
      ],
      "execution_count": null,
      "outputs": []
    },
    {
      "cell_type": "code",
      "metadata": {
        "id": "MmGhgYfjg82X"
      },
      "source": [
        "sgd = tf.keras.optimizers.SGD(learning_rate=0.01)"
      ],
      "execution_count": null,
      "outputs": []
    },
    {
      "cell_type": "code",
      "metadata": {
        "id": "CDXOWN6UhRAd"
      },
      "source": [
        "model.compile(optimizer=sgd, loss='categorical_crossentropy', metrics='accuracy')"
      ],
      "execution_count": null,
      "outputs": []
    },
    {
      "cell_type": "code",
      "metadata": {
        "colab": {
          "base_uri": "https://localhost:8080/"
        },
        "id": "hDg3FdzmhfdZ",
        "outputId": "9ade209b-a65a-44bd-bb16-b0bd84f547a0"
      },
      "source": [
        "model.summary()"
      ],
      "execution_count": null,
      "outputs": [
        {
          "output_type": "stream",
          "text": [
            "Model: \"sequential_1\"\n",
            "_________________________________________________________________\n",
            "Layer (type)                 Output Shape              Param #   \n",
            "=================================================================\n",
            "flatten_1 (Flatten)          (None, 784)               0         \n",
            "_________________________________________________________________\n",
            "dense_4 (Dense)              (None, 90)                70650     \n",
            "_________________________________________________________________\n",
            "dense_5 (Dense)              (None, 10)                910       \n",
            "=================================================================\n",
            "Total params: 71,560\n",
            "Trainable params: 71,560\n",
            "Non-trainable params: 0\n",
            "_________________________________________________________________\n"
          ],
          "name": "stdout"
        }
      ]
    },
    {
      "cell_type": "code",
      "metadata": {
        "colab": {
          "base_uri": "https://localhost:8080/"
        },
        "id": "PsqYd8ldhjaE",
        "outputId": "5bc09564-09af-4461-e80f-c411a544b92a"
      },
      "source": [
        "history = model.fit(x_train, y_train, epochs=25, batch_size=100)"
      ],
      "execution_count": null,
      "outputs": [
        {
          "output_type": "stream",
          "text": [
            "Epoch 1/25\n",
            "600/600 [==============================] - 2s 2ms/step - loss: 1.5424 - accuracy: 0.5795\n",
            "Epoch 2/25\n",
            "600/600 [==============================] - 1s 2ms/step - loss: 0.5547 - accuracy: 0.8592\n",
            "Epoch 3/25\n",
            "600/600 [==============================] - 1s 2ms/step - loss: 0.4274 - accuracy: 0.8840\n",
            "Epoch 4/25\n",
            "600/600 [==============================] - 1s 2ms/step - loss: 0.3752 - accuracy: 0.8980\n",
            "Epoch 5/25\n",
            "600/600 [==============================] - 1s 2ms/step - loss: 0.3512 - accuracy: 0.9011\n",
            "Epoch 6/25\n",
            "600/600 [==============================] - 1s 2ms/step - loss: 0.3312 - accuracy: 0.9071\n",
            "Epoch 7/25\n",
            "600/600 [==============================] - 1s 2ms/step - loss: 0.3186 - accuracy: 0.9095\n",
            "Epoch 8/25\n",
            "600/600 [==============================] - 1s 2ms/step - loss: 0.3079 - accuracy: 0.9100\n",
            "Epoch 9/25\n",
            "600/600 [==============================] - 1s 2ms/step - loss: 0.2918 - accuracy: 0.9178\n",
            "Epoch 10/25\n",
            "600/600 [==============================] - 1s 2ms/step - loss: 0.2892 - accuracy: 0.9172\n",
            "Epoch 11/25\n",
            "600/600 [==============================] - 1s 2ms/step - loss: 0.2770 - accuracy: 0.9220\n",
            "Epoch 12/25\n",
            "600/600 [==============================] - 1s 2ms/step - loss: 0.2713 - accuracy: 0.9226\n",
            "Epoch 13/25\n",
            "600/600 [==============================] - 1s 2ms/step - loss: 0.2592 - accuracy: 0.9267\n",
            "Epoch 14/25\n",
            "600/600 [==============================] - 1s 2ms/step - loss: 0.2495 - accuracy: 0.9294\n",
            "Epoch 15/25\n",
            "600/600 [==============================] - 1s 2ms/step - loss: 0.2442 - accuracy: 0.9305\n",
            "Epoch 16/25\n",
            "600/600 [==============================] - 1s 2ms/step - loss: 0.2396 - accuracy: 0.9319\n",
            "Epoch 17/25\n",
            "600/600 [==============================] - 1s 2ms/step - loss: 0.2354 - accuracy: 0.9332\n",
            "Epoch 18/25\n",
            "600/600 [==============================] - 1s 2ms/step - loss: 0.2285 - accuracy: 0.9361\n",
            "Epoch 19/25\n",
            "600/600 [==============================] - 1s 2ms/step - loss: 0.2235 - accuracy: 0.9372\n",
            "Epoch 20/25\n",
            "600/600 [==============================] - 1s 2ms/step - loss: 0.2199 - accuracy: 0.9386\n",
            "Epoch 21/25\n",
            "600/600 [==============================] - 1s 2ms/step - loss: 0.2168 - accuracy: 0.9393\n",
            "Epoch 22/25\n",
            "600/600 [==============================] - 1s 2ms/step - loss: 0.2103 - accuracy: 0.9404\n",
            "Epoch 23/25\n",
            "600/600 [==============================] - 1s 2ms/step - loss: 0.2043 - accuracy: 0.9429\n",
            "Epoch 24/25\n",
            "600/600 [==============================] - 1s 2ms/step - loss: 0.2027 - accuracy: 0.9428\n",
            "Epoch 25/25\n",
            "600/600 [==============================] - 1s 2ms/step - loss: 0.1957 - accuracy: 0.9438\n"
          ],
          "name": "stdout"
        }
      ]
    },
    {
      "cell_type": "code",
      "metadata": {
        "colab": {
          "base_uri": "https://localhost:8080/"
        },
        "id": "ipzPN0azh24V",
        "outputId": "debc012d-2cab-43c0-feef-0637e348a7a6"
      },
      "source": [
        "model.evaluate(x_test, y_test)"
      ],
      "execution_count": null,
      "outputs": [
        {
          "output_type": "stream",
          "text": [
            "313/313 [==============================] - 1s 2ms/step - loss: 0.1956 - accuracy: 0.9432\n"
          ],
          "name": "stdout"
        },
        {
          "output_type": "execute_result",
          "data": {
            "text/plain": [
              "[0.1956377625465393, 0.9431999921798706]"
            ]
          },
          "metadata": {
            "tags": []
          },
          "execution_count": 48
        }
      ]
    },
    {
      "cell_type": "code",
      "metadata": {
        "colab": {
          "base_uri": "https://localhost:8080/"
        },
        "id": "sSnU5gy4iGhg",
        "outputId": "750d77e7-7a30-4732-ee3b-bc791dd4c19f"
      },
      "source": [
        "cd '/content/drive/MyDrive/Colab Notebooks/DL_Seminar'"
      ],
      "execution_count": null,
      "outputs": [
        {
          "output_type": "stream",
          "text": [
            "/content/drive/MyDrive/Colab Notebooks/DL_Seminar\n"
          ],
          "name": "stdout"
        }
      ]
    },
    {
      "cell_type": "code",
      "metadata": {
        "id": "huBj4Zt5jfNM"
      },
      "source": [
        "from PIL import Image"
      ],
      "execution_count": null,
      "outputs": []
    },
    {
      "cell_type": "code",
      "metadata": {
        "id": "WYAdRux7jjT-"
      },
      "source": [
        "img = Image.open('2.png')\n",
        "img = img.resize((28,28))\n",
        "img = img.convert('L')\n",
        "img = np.array(img)"
      ],
      "execution_count": null,
      "outputs": []
    },
    {
      "cell_type": "code",
      "metadata": {
        "colab": {
          "base_uri": "https://localhost:8080/",
          "height": 265
        },
        "id": "HxdDVx5MkGQ7",
        "outputId": "5011fe8f-211a-4b67-9d45-d6344594593f"
      },
      "source": [
        "plt.imshow(img, cmap='gray')\n",
        "plt.show()"
      ],
      "execution_count": null,
      "outputs": [
        {
          "output_type": "display_data",
          "data": {
            "image/png": "[encoded data removed]",
            "text/plain": [
              "<Figure size 432x288 with 1 Axes>"
            ]
          },
          "metadata": {
            "tags": [],
            "needs_background": "light"
          }
        }
      ]
    },
    {
      "cell_type": "code",
      "metadata": {
        "id": "sHUmCmy9kLYd"
      },
      "source": [
        "img = img.astype('float32')/255."
      ],
      "execution_count": null,
      "outputs": []
    },
    {
      "cell_type": "code",
      "metadata": {
        "colab": {
          "base_uri": "https://localhost:8080/"
        },
        "id": "MmbZP6qZkWVP",
        "outputId": "5e827a8e-4ab8-47fc-f556-4b2c75fcd592"
      },
      "source": [
        "np.argmax(model.predict(img.reshape(1,28,28))) # 1개짜리 이미지"
      ],
      "execution_count": null,
      "outputs": [
        {
          "output_type": "execute_result",
          "data": {
            "text/plain": [
              "2"
            ]
          },
          "metadata": {
            "tags": []
          },
          "execution_count": 72
        }
      ]
    },
    {
      "cell_type": "code",
      "metadata": {
        "id": "Z2qtDK25lNd3"
      },
      "source": [
        "# 과제 (mnist -> fashion_mnist)\n",
        "# 성능 높이려면 layer를 늘리거나 lr을 수정하거나 새 layer를 넣거나"
      ],
      "execution_count": null,
      "outputs": []
    },
    {
      "cell_type": "code",
      "metadata": {
        "id": "1N8Wn42LkhY4"
      },
      "source": [
        "fashion_mnist = tf.keras.datasets.fashion_mnist"
      ],
      "execution_count": null,
      "outputs": []
    },
    {
      "cell_type": "code",
      "metadata": {
        "colab": {
          "base_uri": "https://localhost:8080/"
        },
        "id": "Pao5sLkBmYVT",
        "outputId": "a1212824-7357-4270-df77-3be8cbf978e3"
      },
      "source": [
        "(x_trainf,y_trainf), (x_testf,y_testf) = fashion_mnist.load_data()"
      ],
      "execution_count": null,
      "outputs": [
        {
          "output_type": "stream",
          "text": [
            "Downloading data from https://storage.googleapis.com/tensorflow/tf-keras-datasets/train-labels-idx1-ubyte.gz\n",
            "32768/29515 [=================================] - 0s 0us/step\n",
            "Downloading data from https://storage.googleapis.com/tensorflow/tf-keras-datasets/train-images-idx3-ubyte.gz\n",
            "26427392/26421880 [==============================] - 0s 0us/step\n",
            "Downloading data from https://storage.googleapis.com/tensorflow/tf-keras-datasets/t10k-labels-idx1-ubyte.gz\n",
            "8192/5148 [===============================================] - 0s 0us/step\n",
            "Downloading data from https://storage.googleapis.com/tensorflow/tf-keras-datasets/t10k-images-idx3-ubyte.gz\n",
            "4423680/4422102 [==============================] - 0s 0us/step\n"
          ],
          "name": "stdout"
        }
      ]
    },
    {
      "cell_type": "code",
      "metadata": {
        "colab": {
          "base_uri": "https://localhost:8080/"
        },
        "id": "YNKfIl3KmeF1",
        "outputId": "afd1f30f-8e14-44e3-def4-940ad1b710af"
      },
      "source": [
        "print(x_trainf.shape, y_trainf.shape)"
      ],
      "execution_count": null,
      "outputs": [
        {
          "output_type": "stream",
          "text": [
            "(60000, 28, 28) (60000,)\n"
          ],
          "name": "stdout"
        }
      ]
    },
    {
      "cell_type": "code",
      "metadata": {
        "colab": {
          "base_uri": "https://localhost:8080/",
          "height": 265
        },
        "id": "5juzxGIkmkgP",
        "outputId": "b3d1dde9-bf55-44f6-9478-fc94e70371db"
      },
      "source": [
        "plt.imshow(x_trainf[23], cmap='gray')\n",
        "plt.show()"
      ],
      "execution_count": null,
      "outputs": [
        {
          "output_type": "display_data",
          "data": {
            "image/png": "[encoded data removed]",
            "text/plain": [
              "<Figure size 432x288 with 1 Axes>"
            ]
          },
          "metadata": {
            "tags": [],
            "needs_background": "light"
          }
        }
      ]
    },
    {
      "cell_type": "code",
      "metadata": {
        "colab": {
          "base_uri": "https://localhost:8080/"
        },
        "id": "D5YRwvUumoWg",
        "outputId": "31a0849f-6499-4e2b-e512-c0c8104a6cf4"
      },
      "source": [
        "print(y_trainf[23])"
      ],
      "execution_count": null,
      "outputs": [
        {
          "output_type": "stream",
          "text": [
            "[0. 0. 0. 0. 0. 0. 0. 0. 1. 0.]\n"
          ],
          "name": "stdout"
        }
      ]
    },
    {
      "cell_type": "code",
      "metadata": {
        "id": "bFF-CBsNmuvm"
      },
      "source": [
        "x_trainf = x_trainf.astype('float32')/255.\n",
        "x_testf = x_testf.astype('float32')/255. \n",
        "y_trainf = tf.keras.utils.to_categorical(y_trainf, 10)\n",
        "y_testf = tf.keras.utils.to_categorical(y_testf, 10)"
      ],
      "execution_count": null,
      "outputs": []
    },
    {
      "cell_type": "code",
      "metadata": {
        "id": "uVk6VPNBnELh"
      },
      "source": [
        "modelf = tf.keras.models.Sequential()"
      ],
      "execution_count": null,
      "outputs": []
    },
    {
      "cell_type": "code",
      "metadata": {
        "id": "4HKCCQ6fnFmH"
      },
      "source": [
        "layer1f = tf.keras.layers.Flatten(input_shape=(28,28))\n",
        "layer2f = tf.keras.layers.Dense(90, activation='relu')\n",
        "layer3f = tf.keras.layers.Dense(90, activation='relu')\n",
        "layer4f = tf.keras.layers.Dense(10, activation='softmax')"
      ],
      "execution_count": null,
      "outputs": []
    },
    {
      "cell_type": "code",
      "metadata": {
        "id": "fnD4QjdRnfF9"
      },
      "source": [
        "modelf.add(layer1f)\n",
        "modelf.add(layer2f)\n",
        "modelf.add(layer3f)\n",
        "modelf.add(layer4f)"
      ],
      "execution_count": null,
      "outputs": []
    },
    {
      "cell_type": "code",
      "metadata": {
        "id": "rnwCrHnonfkf"
      },
      "source": [
        "sgdf = tf.keras.optimizers.SGD(learning_rate=0.005)"
      ],
      "execution_count": null,
      "outputs": []
    },
    {
      "cell_type": "code",
      "metadata": {
        "id": "BIIrC0M5npXj"
      },
      "source": [
        "modelf.compile(optimizer=sgdf, loss='categorical_crossentropy', metrics='accuracy')"
      ],
      "execution_count": null,
      "outputs": []
    },
    {
      "cell_type": "code",
      "metadata": {
        "colab": {
          "base_uri": "https://localhost:8080/"
        },
        "id": "LuFxLU_FnrUK",
        "outputId": "0ee00e84-775a-430b-ff8b-ef95a4817321"
      },
      "source": [
        "modelf.summary()"
      ],
      "execution_count": null,
      "outputs": [
        {
          "output_type": "stream",
          "text": [
            "Model: \"sequential_3\"\n",
            "_________________________________________________________________\n",
            "Layer (type)                 Output Shape              Param #   \n",
            "=================================================================\n",
            "flatten_3 (Flatten)          multiple                  0         \n",
            "_________________________________________________________________\n",
            "flatten_4 (Flatten)          (None, 784)               0         \n",
            "_________________________________________________________________\n",
            "dense_11 (Dense)             (None, 90)                70650     \n",
            "_________________________________________________________________\n",
            "dense_12 (Dense)             (None, 90)                8190      \n",
            "_________________________________________________________________\n",
            "dense_13 (Dense)             (None, 10)                910       \n",
            "=================================================================\n",
            "Total params: 79,750\n",
            "Trainable params: 79,750\n",
            "Non-trainable params: 0\n",
            "_________________________________________________________________\n"
          ],
          "name": "stdout"
        }
      ]
    },
    {
      "cell_type": "code",
      "metadata": {
        "colab": {
          "base_uri": "https://localhost:8080/"
        },
        "id": "IuQc3YDHns_z",
        "outputId": "746cc4b2-2e0c-4d61-cf22-9b1ba6999dc2"
      },
      "source": [
        "historyf = modelf.fit(x_trainf, y_trainf, epochs=40, batch_size=100)"
      ],
      "execution_count": null,
      "outputs": [
        {
          "output_type": "stream",
          "text": [
            "Epoch 1/40\n",
            "600/600 [==============================] - 1s 2ms/step - loss: 0.3082 - accuracy: 0.8908\n",
            "Epoch 2/40\n",
            "600/600 [==============================] - 1s 2ms/step - loss: 0.3076 - accuracy: 0.8913\n",
            "Epoch 3/40\n",
            "600/600 [==============================] - 1s 2ms/step - loss: 0.3065 - accuracy: 0.8916\n",
            "Epoch 4/40\n",
            "600/600 [==============================] - 1s 2ms/step - loss: 0.3051 - accuracy: 0.8923\n",
            "Epoch 5/40\n",
            "600/600 [==============================] - 1s 2ms/step - loss: 0.3040 - accuracy: 0.8926\n",
            "Epoch 6/40\n",
            "600/600 [==============================] - 1s 2ms/step - loss: 0.3035 - accuracy: 0.8926\n",
            "Epoch 7/40\n",
            "600/600 [==============================] - 1s 2ms/step - loss: 0.3020 - accuracy: 0.8933\n",
            "Epoch 8/40\n",
            "600/600 [==============================] - 1s 2ms/step - loss: 0.3008 - accuracy: 0.8931\n",
            "Epoch 9/40\n",
            "600/600 [==============================] - 1s 2ms/step - loss: 0.3000 - accuracy: 0.8942\n",
            "Epoch 10/40\n",
            "600/600 [==============================] - 1s 2ms/step - loss: 0.2989 - accuracy: 0.8941\n",
            "Epoch 11/40\n",
            "600/600 [==============================] - 1s 2ms/step - loss: 0.2984 - accuracy: 0.8947\n",
            "Epoch 12/40\n",
            "600/600 [==============================] - 1s 2ms/step - loss: 0.2969 - accuracy: 0.8952\n",
            "Epoch 13/40\n",
            "600/600 [==============================] - 1s 2ms/step - loss: 0.2963 - accuracy: 0.8948\n",
            "Epoch 14/40\n",
            "600/600 [==============================] - 1s 2ms/step - loss: 0.2952 - accuracy: 0.8954\n",
            "Epoch 15/40\n",
            "600/600 [==============================] - 1s 2ms/step - loss: 0.2937 - accuracy: 0.8966\n",
            "Epoch 16/40\n",
            "600/600 [==============================] - 1s 2ms/step - loss: 0.2930 - accuracy: 0.8962\n",
            "Epoch 17/40\n",
            "600/600 [==============================] - 1s 2ms/step - loss: 0.2923 - accuracy: 0.8967\n",
            "Epoch 18/40\n",
            "600/600 [==============================] - 1s 2ms/step - loss: 0.2915 - accuracy: 0.8976\n",
            "Epoch 19/40\n",
            "600/600 [==============================] - 1s 2ms/step - loss: 0.2905 - accuracy: 0.8977\n",
            "Epoch 20/40\n",
            "600/600 [==============================] - 1s 2ms/step - loss: 0.2894 - accuracy: 0.8974\n",
            "Epoch 21/40\n",
            "600/600 [==============================] - 1s 2ms/step - loss: 0.2887 - accuracy: 0.8974\n",
            "Epoch 22/40\n",
            "600/600 [==============================] - 1s 2ms/step - loss: 0.2872 - accuracy: 0.8986\n",
            "Epoch 23/40\n",
            "600/600 [==============================] - 1s 2ms/step - loss: 0.2864 - accuracy: 0.8985\n",
            "Epoch 24/40\n",
            "600/600 [==============================] - 1s 2ms/step - loss: 0.2855 - accuracy: 0.8989\n",
            "Epoch 25/40\n",
            "600/600 [==============================] - 1s 2ms/step - loss: 0.2842 - accuracy: 0.9001\n",
            "Epoch 26/40\n",
            "600/600 [==============================] - 1s 2ms/step - loss: 0.2837 - accuracy: 0.8995\n",
            "Epoch 27/40\n",
            "600/600 [==============================] - 1s 2ms/step - loss: 0.2830 - accuracy: 0.8998\n",
            "Epoch 28/40\n",
            "600/600 [==============================] - 1s 2ms/step - loss: 0.2815 - accuracy: 0.9000\n",
            "Epoch 29/40\n",
            "600/600 [==============================] - 1s 2ms/step - loss: 0.2811 - accuracy: 0.9006\n",
            "Epoch 30/40\n",
            "600/600 [==============================] - 1s 2ms/step - loss: 0.2802 - accuracy: 0.9010\n",
            "Epoch 31/40\n",
            "600/600 [==============================] - 1s 2ms/step - loss: 0.2796 - accuracy: 0.9008\n",
            "Epoch 32/40\n",
            "600/600 [==============================] - 1s 2ms/step - loss: 0.2778 - accuracy: 0.9012\n",
            "Epoch 33/40\n",
            "600/600 [==============================] - 1s 2ms/step - loss: 0.2773 - accuracy: 0.9028\n",
            "Epoch 34/40\n",
            "600/600 [==============================] - 1s 2ms/step - loss: 0.2760 - accuracy: 0.9012\n",
            "Epoch 35/40\n",
            "600/600 [==============================] - 1s 2ms/step - loss: 0.2762 - accuracy: 0.9023\n",
            "Epoch 36/40\n",
            "600/600 [==============================] - 1s 2ms/step - loss: 0.2744 - accuracy: 0.9042\n",
            "Epoch 37/40\n",
            "600/600 [==============================] - 1s 2ms/step - loss: 0.2743 - accuracy: 0.9030\n",
            "Epoch 38/40\n",
            "600/600 [==============================] - 1s 2ms/step - loss: 0.2728 - accuracy: 0.9039\n",
            "Epoch 39/40\n",
            "600/600 [==============================] - 1s 2ms/step - loss: 0.2725 - accuracy: 0.9039\n",
            "Epoch 40/40\n",
            "600/600 [==============================] - 1s 2ms/step - loss: 0.2721 - accuracy: 0.9038\n"
          ],
          "name": "stdout"
        }
      ]
    },
    {
      "cell_type": "code",
      "metadata": {
        "colab": {
          "base_uri": "https://localhost:8080/"
        },
        "id": "ue9kDa0-n5YZ",
        "outputId": "9addef81-f64f-4021-d5f7-eebedb708c0d"
      },
      "source": [
        "modelf.evaluate(x_testf, y_testf)"
      ],
      "execution_count": null,
      "outputs": [
        {
          "output_type": "stream",
          "text": [
            "313/313 [==============================] - 1s 2ms/step - loss: 0.3475 - accuracy: 0.8746\n"
          ],
          "name": "stdout"
        },
        {
          "output_type": "execute_result",
          "data": {
            "text/plain": [
              "[0.3475266396999359, 0.8745999932289124]"
            ]
          },
          "metadata": {
            "tags": []
          },
          "execution_count": 142
        }
      ]
    },
    {
      "cell_type": "code",
      "metadata": {
        "colab": {
          "base_uri": "https://localhost:8080/"
        },
        "id": "MVQxLnqIoEos",
        "outputId": "1f7e1e26-b93a-439e-95f2-1d56fafc7537"
      },
      "source": [
        "cd '/content/drive/MyDrive/Colab Notebooks/DL_Seminar'"
      ],
      "execution_count": null,
      "outputs": [
        {
          "output_type": "stream",
          "text": [
            "/content/drive/MyDrive/Colab Notebooks/DL_Seminar\n"
          ],
          "name": "stdout"
        }
      ]
    },
    {
      "cell_type": "code",
      "metadata": {
        "id": "xnQS2Totoliz"
      },
      "source": [
        "from PIL import Image"
      ],
      "execution_count": null,
      "outputs": []
    },
    {
      "cell_type": "code",
      "metadata": {
        "id": "-uDQmhh-oplL"
      },
      "source": [
        "imgf = Image.open('shoe.jpg')\n",
        "imgf = imgf.resize((28,28))\n",
        "imgf = imgf.convert('L')\n",
        "imgf = np.array(imgf)"
      ],
      "execution_count": null,
      "outputs": []
    },
    {
      "cell_type": "code",
      "metadata": {
        "colab": {
          "base_uri": "https://localhost:8080/",
          "height": 265
        },
        "id": "7bBS1b-iowB0",
        "outputId": "23550541-2649-4713-d981-d211d1c7efdf"
      },
      "source": [
        "plt.imshow(imgf, cmap='gray')\n",
        "plt.show()"
      ],
      "execution_count": null,
      "outputs": [
        {
          "output_type": "display_data",
          "data": {
            "image/png": "[encoded data removed]",
            "text/plain": [
              "<Figure size 432x288 with 1 Axes>"
            ]
          },
          "metadata": {
            "tags": [],
            "needs_background": "light"
          }
        }
      ]
    },
    {
      "cell_type": "code",
      "metadata": {
        "id": "jyQMdfj6pA3U"
      },
      "source": [
        "imgf = imgf.astype('float32')/255."
      ],
      "execution_count": null,
      "outputs": []
    },
    {
      "cell_type": "code",
      "metadata": {
        "colab": {
          "base_uri": "https://localhost:8080/"
        },
        "id": "1caeHHqapGIX",
        "outputId": "f48e58c5-02d2-482d-a5bd-9b007c0d063a"
      },
      "source": [
        "np.argmax(modelf.predict(imgf.reshape(1,28,28)))"
      ],
      "execution_count": null,
      "outputs": [
        {
          "output_type": "execute_result",
          "data": {
            "text/plain": [
              "8"
            ]
          },
          "metadata": {
            "tags": []
          },
          "execution_count": 144
        }
      ]
    },
    {
      "cell_type": "code",
      "metadata": {
        "id": "oHexGBLRpJ_t"
      },
      "source": [
        ""
      ],
      "execution_count": null,
      "outputs": []
    }
  ]
}